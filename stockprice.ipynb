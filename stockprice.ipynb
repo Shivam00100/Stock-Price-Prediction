{
  "nbformat": 4,
  "nbformat_minor": 0,
  "metadata": {
    "colab": {
      "name": "stockprice.ipynb",
      "provenance": [],
      "collapsed_sections": [],
      "include_colab_link": true
    },
    "kernelspec": {
      "name": "python3",
      "display_name": "Python 3"
    },
    "language_info": {
      "name": "python"
    }
  },
  "cells": [
    {
      "cell_type": "markdown",
      "metadata": {
        "id": "view-in-github",
        "colab_type": "text"
      },
      "source": [
        "<a href=\"https://colab.research.google.com/github/Shivam00100/Stock-Price-Prediction/blob/main/stockprice.ipynb\" target=\"_parent\"><img src=\"https://colab.research.google.com/assets/colab-badge.svg\" alt=\"Open In Colab\"/></a>"
      ]
    },
    {
      "cell_type": "code",
      "source": [
        "!pip install yfinance"
      ],
      "metadata": {
        "id": "1lObgkGLD8vs",
        "outputId": "62e5c6c4-8a77-4620-ca30-6914dd770670",
        "colab": {
          "base_uri": "https://localhost:8080/"
        }
      },
      "execution_count": 1,
      "outputs": [
        {
          "output_type": "stream",
          "name": "stdout",
          "text": [
            "Looking in indexes: https://pypi.org/simple, https://us-python.pkg.dev/colab-wheels/public/simple/\n",
            "Collecting yfinance\n",
            "  Downloading yfinance-0.1.72-py2.py3-none-any.whl (27 kB)\n",
            "Requirement already satisfied: pandas>=0.24.0 in /usr/local/lib/python3.7/dist-packages (from yfinance) (1.3.5)\n",
            "Requirement already satisfied: multitasking>=0.0.7 in /usr/local/lib/python3.7/dist-packages (from yfinance) (0.0.10)\n",
            "Requirement already satisfied: numpy>=1.15 in /usr/local/lib/python3.7/dist-packages (from yfinance) (1.21.6)\n",
            "Collecting requests>=2.26\n",
            "  Downloading requests-2.28.0-py3-none-any.whl (62 kB)\n",
            "\u001b[K     |████████████████████████████████| 62 kB 1.7 MB/s \n",
            "\u001b[?25hCollecting lxml>=4.5.1\n",
            "  Downloading lxml-4.9.0-cp37-cp37m-manylinux_2_17_x86_64.manylinux2014_x86_64.manylinux_2_24_x86_64.whl (6.4 MB)\n",
            "\u001b[K     |████████████████████████████████| 6.4 MB 41.6 MB/s \n",
            "\u001b[?25hRequirement already satisfied: pytz>=2017.3 in /usr/local/lib/python3.7/dist-packages (from pandas>=0.24.0->yfinance) (2022.1)\n",
            "Requirement already satisfied: python-dateutil>=2.7.3 in /usr/local/lib/python3.7/dist-packages (from pandas>=0.24.0->yfinance) (2.8.2)\n",
            "Requirement already satisfied: six>=1.5 in /usr/local/lib/python3.7/dist-packages (from python-dateutil>=2.7.3->pandas>=0.24.0->yfinance) (1.15.0)\n",
            "Requirement already satisfied: urllib3<1.27,>=1.21.1 in /usr/local/lib/python3.7/dist-packages (from requests>=2.26->yfinance) (1.24.3)\n",
            "Requirement already satisfied: certifi>=2017.4.17 in /usr/local/lib/python3.7/dist-packages (from requests>=2.26->yfinance) (2022.6.15)\n",
            "Requirement already satisfied: charset-normalizer~=2.0.0 in /usr/local/lib/python3.7/dist-packages (from requests>=2.26->yfinance) (2.0.12)\n",
            "Requirement already satisfied: idna<4,>=2.5 in /usr/local/lib/python3.7/dist-packages (from requests>=2.26->yfinance) (2.10)\n",
            "Installing collected packages: requests, lxml, yfinance\n",
            "  Attempting uninstall: requests\n",
            "    Found existing installation: requests 2.23.0\n",
            "    Uninstalling requests-2.23.0:\n",
            "      Successfully uninstalled requests-2.23.0\n",
            "  Attempting uninstall: lxml\n",
            "    Found existing installation: lxml 4.2.6\n",
            "    Uninstalling lxml-4.2.6:\n",
            "      Successfully uninstalled lxml-4.2.6\n",
            "\u001b[31mERROR: pip's dependency resolver does not currently take into account all the packages that are installed. This behaviour is the source of the following dependency conflicts.\n",
            "google-colab 1.0.0 requires requests~=2.23.0, but you have requests 2.28.0 which is incompatible.\n",
            "datascience 0.10.6 requires folium==0.2.1, but you have folium 0.8.3 which is incompatible.\u001b[0m\n",
            "Successfully installed lxml-4.9.0 requests-2.28.0 yfinance-0.1.72\n"
          ]
        }
      ]
    },
    {
      "cell_type": "code",
      "execution_count": 2,
      "metadata": {
        "id": "N0gQDPxF_jcG"
      },
      "outputs": [],
      "source": [
        "import pandas as pd\n",
        "import numpy as np\n",
        "import matplotlib.pyplot as plt\n",
        "import seaborn as sns\n",
        "import yfinance as yf"
      ]
    },
    {
      "cell_type": "code",
      "source": [
        "stocks = input(\"Enter the code of Stock :- \")\n",
        "data = yf.download(stocks,\"2008-01-01\",\"2022-06-27\",auto_adjust=True)\n",
        "# data.head()\n",
        "data.tail()"
      ],
      "metadata": {
        "id": "gmnYsTqSC3qH",
        "colab": {
          "base_uri": "https://localhost:8080/",
          "height": 250
        },
        "outputId": "23be07f6-47ec-468b-f262-5f93901f8d3f"
      },
      "execution_count": 8,
      "outputs": [
        {
          "output_type": "stream",
          "name": "stdout",
          "text": [
            "Enter the code of Stock :- AAPL\n",
            "[*********************100%***********************]  1 of 1 completed\n"
          ]
        },
        {
          "output_type": "execute_result",
          "data": {
            "text/plain": [
              "                  Open        High         Low       Close     Volume\n",
              "Date                                                                 \n",
              "2022-06-13  132.869995  135.199997  131.440002  131.880005  122207100\n",
              "2022-06-14  133.130005  133.889999  131.479996  132.759995   84784300\n",
              "2022-06-15  134.289993  137.339996  132.160004  135.429993   91533000\n",
              "2022-06-16  132.080002  132.389999  129.039993  130.059998  108123900\n",
              "2022-06-17  130.070007  133.080002  129.809998  131.559998  134118500"
            ],
            "text/html": [
              "\n",
              "  <div id=\"df-4f7253d4-3a96-4177-9bca-48770524f9f9\">\n",
              "    <div class=\"colab-df-container\">\n",
              "      <div>\n",
              "<style scoped>\n",
              "    .dataframe tbody tr th:only-of-type {\n",
              "        vertical-align: middle;\n",
              "    }\n",
              "\n",
              "    .dataframe tbody tr th {\n",
              "        vertical-align: top;\n",
              "    }\n",
              "\n",
              "    .dataframe thead th {\n",
              "        text-align: right;\n",
              "    }\n",
              "</style>\n",
              "<table border=\"1\" class=\"dataframe\">\n",
              "  <thead>\n",
              "    <tr style=\"text-align: right;\">\n",
              "      <th></th>\n",
              "      <th>Open</th>\n",
              "      <th>High</th>\n",
              "      <th>Low</th>\n",
              "      <th>Close</th>\n",
              "      <th>Volume</th>\n",
              "    </tr>\n",
              "    <tr>\n",
              "      <th>Date</th>\n",
              "      <th></th>\n",
              "      <th></th>\n",
              "      <th></th>\n",
              "      <th></th>\n",
              "      <th></th>\n",
              "    </tr>\n",
              "  </thead>\n",
              "  <tbody>\n",
              "    <tr>\n",
              "      <th>2022-06-13</th>\n",
              "      <td>132.869995</td>\n",
              "      <td>135.199997</td>\n",
              "      <td>131.440002</td>\n",
              "      <td>131.880005</td>\n",
              "      <td>122207100</td>\n",
              "    </tr>\n",
              "    <tr>\n",
              "      <th>2022-06-14</th>\n",
              "      <td>133.130005</td>\n",
              "      <td>133.889999</td>\n",
              "      <td>131.479996</td>\n",
              "      <td>132.759995</td>\n",
              "      <td>84784300</td>\n",
              "    </tr>\n",
              "    <tr>\n",
              "      <th>2022-06-15</th>\n",
              "      <td>134.289993</td>\n",
              "      <td>137.339996</td>\n",
              "      <td>132.160004</td>\n",
              "      <td>135.429993</td>\n",
              "      <td>91533000</td>\n",
              "    </tr>\n",
              "    <tr>\n",
              "      <th>2022-06-16</th>\n",
              "      <td>132.080002</td>\n",
              "      <td>132.389999</td>\n",
              "      <td>129.039993</td>\n",
              "      <td>130.059998</td>\n",
              "      <td>108123900</td>\n",
              "    </tr>\n",
              "    <tr>\n",
              "      <th>2022-06-17</th>\n",
              "      <td>130.070007</td>\n",
              "      <td>133.080002</td>\n",
              "      <td>129.809998</td>\n",
              "      <td>131.559998</td>\n",
              "      <td>134118500</td>\n",
              "    </tr>\n",
              "  </tbody>\n",
              "</table>\n",
              "</div>\n",
              "      <button class=\"colab-df-convert\" onclick=\"convertToInteractive('df-4f7253d4-3a96-4177-9bca-48770524f9f9')\"\n",
              "              title=\"Convert this dataframe to an interactive table.\"\n",
              "              style=\"display:none;\">\n",
              "        \n",
              "  <svg xmlns=\"http://www.w3.org/2000/svg\" height=\"24px\"viewBox=\"0 0 24 24\"\n",
              "       width=\"24px\">\n",
              "    <path d=\"M0 0h24v24H0V0z\" fill=\"none\"/>\n",
              "    <path d=\"M18.56 5.44l.94 2.06.94-2.06 2.06-.94-2.06-.94-.94-2.06-.94 2.06-2.06.94zm-11 1L8.5 8.5l.94-2.06 2.06-.94-2.06-.94L8.5 2.5l-.94 2.06-2.06.94zm10 10l.94 2.06.94-2.06 2.06-.94-2.06-.94-.94-2.06-.94 2.06-2.06.94z\"/><path d=\"M17.41 7.96l-1.37-1.37c-.4-.4-.92-.59-1.43-.59-.52 0-1.04.2-1.43.59L10.3 9.45l-7.72 7.72c-.78.78-.78 2.05 0 2.83L4 21.41c.39.39.9.59 1.41.59.51 0 1.02-.2 1.41-.59l7.78-7.78 2.81-2.81c.8-.78.8-2.07 0-2.86zM5.41 20L4 18.59l7.72-7.72 1.47 1.35L5.41 20z\"/>\n",
              "  </svg>\n",
              "      </button>\n",
              "      \n",
              "  <style>\n",
              "    .colab-df-container {\n",
              "      display:flex;\n",
              "      flex-wrap:wrap;\n",
              "      gap: 12px;\n",
              "    }\n",
              "\n",
              "    .colab-df-convert {\n",
              "      background-color: #E8F0FE;\n",
              "      border: none;\n",
              "      border-radius: 50%;\n",
              "      cursor: pointer;\n",
              "      display: none;\n",
              "      fill: #1967D2;\n",
              "      height: 32px;\n",
              "      padding: 0 0 0 0;\n",
              "      width: 32px;\n",
              "    }\n",
              "\n",
              "    .colab-df-convert:hover {\n",
              "      background-color: #E2EBFA;\n",
              "      box-shadow: 0px 1px 2px rgba(60, 64, 67, 0.3), 0px 1px 3px 1px rgba(60, 64, 67, 0.15);\n",
              "      fill: #174EA6;\n",
              "    }\n",
              "\n",
              "    [theme=dark] .colab-df-convert {\n",
              "      background-color: #3B4455;\n",
              "      fill: #D2E3FC;\n",
              "    }\n",
              "\n",
              "    [theme=dark] .colab-df-convert:hover {\n",
              "      background-color: #434B5C;\n",
              "      box-shadow: 0px 1px 3px 1px rgba(0, 0, 0, 0.15);\n",
              "      filter: drop-shadow(0px 1px 2px rgba(0, 0, 0, 0.3));\n",
              "      fill: #FFFFFF;\n",
              "    }\n",
              "  </style>\n",
              "\n",
              "      <script>\n",
              "        const buttonEl =\n",
              "          document.querySelector('#df-4f7253d4-3a96-4177-9bca-48770524f9f9 button.colab-df-convert');\n",
              "        buttonEl.style.display =\n",
              "          google.colab.kernel.accessAllowed ? 'block' : 'none';\n",
              "\n",
              "        async function convertToInteractive(key) {\n",
              "          const element = document.querySelector('#df-4f7253d4-3a96-4177-9bca-48770524f9f9');\n",
              "          const dataTable =\n",
              "            await google.colab.kernel.invokeFunction('convertToInteractive',\n",
              "                                                     [key], {});\n",
              "          if (!dataTable) return;\n",
              "\n",
              "          const docLinkHtml = 'Like what you see? Visit the ' +\n",
              "            '<a target=\"_blank\" href=https://colab.research.google.com/notebooks/data_table.ipynb>data table notebook</a>'\n",
              "            + ' to learn more about interactive tables.';\n",
              "          element.innerHTML = '';\n",
              "          dataTable['output_type'] = 'display_data';\n",
              "          await google.colab.output.renderOutput(dataTable, element);\n",
              "          const docLink = document.createElement('div');\n",
              "          docLink.innerHTML = docLinkHtml;\n",
              "          element.appendChild(docLink);\n",
              "        }\n",
              "      </script>\n",
              "    </div>\n",
              "  </div>\n",
              "  "
            ]
          },
          "metadata": {},
          "execution_count": 8
        }
      ]
    },
    {
      "cell_type": "code",
      "source": [
        "data.shape"
      ],
      "metadata": {
        "id": "58deYb62FdRV",
        "colab": {
          "base_uri": "https://localhost:8080/"
        },
        "outputId": "882b83d6-653a-4264-f80e-f77837eca496"
      },
      "execution_count": 20,
      "outputs": [
        {
          "output_type": "execute_result",
          "data": {
            "text/plain": [
              "(3642, 5)"
            ]
          },
          "metadata": {},
          "execution_count": 20
        }
      ]
    },
    {
      "cell_type": "code",
      "source": [
        "data.info()"
      ],
      "metadata": {
        "id": "iZ_W4PO_GDey",
        "colab": {
          "base_uri": "https://localhost:8080/"
        },
        "outputId": "0451e1a7-3af3-46eb-c88c-2e501afc54b6"
      },
      "execution_count": 21,
      "outputs": [
        {
          "output_type": "stream",
          "name": "stdout",
          "text": [
            "<class 'pandas.core.frame.DataFrame'>\n",
            "DatetimeIndex: 3642 entries, 2008-01-02 to 2022-06-17\n",
            "Data columns (total 5 columns):\n",
            " #   Column  Non-Null Count  Dtype  \n",
            "---  ------  --------------  -----  \n",
            " 0   Open    3642 non-null   float64\n",
            " 1   High    3642 non-null   float64\n",
            " 2   Low     3642 non-null   float64\n",
            " 3   Close   3642 non-null   float64\n",
            " 4   Volume  3642 non-null   int64  \n",
            "dtypes: float64(4), int64(1)\n",
            "memory usage: 170.7 KB\n"
          ]
        }
      ]
    },
    {
      "cell_type": "code",
      "source": [
        "data.describe()"
      ],
      "metadata": {
        "id": "QQ44TXiDGO50",
        "colab": {
          "base_uri": "https://localhost:8080/",
          "height": 300
        },
        "outputId": "00a6f38d-ca66-4337-e441-ff943bdabffb"
      },
      "execution_count": 22,
      "outputs": [
        {
          "output_type": "execute_result",
          "data": {
            "text/plain": [
              "              Open         High          Low        Close        Volume\n",
              "count  3642.000000  3642.000000  3642.000000  3642.000000  3.642000e+03\n",
              "mean     39.631997    40.066975    39.199866    39.648626  3.450914e+08\n",
              "std      43.304670    43.836072    42.781664    43.326924  3.357897e+08\n",
              "min       2.424281     2.503981     2.387943     2.387943  4.100000e+07\n",
              "25%      11.401206    11.569081    11.305552    11.441514  1.136170e+08\n",
              "50%      23.387782    23.608728    23.179518    23.470344  2.151352e+08\n",
              "75%      45.476249    45.861837    45.098424    45.398707  4.541817e+08\n",
              "max     182.130025   182.439174   178.629624   181.511703  3.372970e+09"
            ],
            "text/html": [
              "\n",
              "  <div id=\"df-34b53bb0-bf1c-4b6d-8729-5c0ef4cb7b30\">\n",
              "    <div class=\"colab-df-container\">\n",
              "      <div>\n",
              "<style scoped>\n",
              "    .dataframe tbody tr th:only-of-type {\n",
              "        vertical-align: middle;\n",
              "    }\n",
              "\n",
              "    .dataframe tbody tr th {\n",
              "        vertical-align: top;\n",
              "    }\n",
              "\n",
              "    .dataframe thead th {\n",
              "        text-align: right;\n",
              "    }\n",
              "</style>\n",
              "<table border=\"1\" class=\"dataframe\">\n",
              "  <thead>\n",
              "    <tr style=\"text-align: right;\">\n",
              "      <th></th>\n",
              "      <th>Open</th>\n",
              "      <th>High</th>\n",
              "      <th>Low</th>\n",
              "      <th>Close</th>\n",
              "      <th>Volume</th>\n",
              "    </tr>\n",
              "  </thead>\n",
              "  <tbody>\n",
              "    <tr>\n",
              "      <th>count</th>\n",
              "      <td>3642.000000</td>\n",
              "      <td>3642.000000</td>\n",
              "      <td>3642.000000</td>\n",
              "      <td>3642.000000</td>\n",
              "      <td>3.642000e+03</td>\n",
              "    </tr>\n",
              "    <tr>\n",
              "      <th>mean</th>\n",
              "      <td>39.631997</td>\n",
              "      <td>40.066975</td>\n",
              "      <td>39.199866</td>\n",
              "      <td>39.648626</td>\n",
              "      <td>3.450914e+08</td>\n",
              "    </tr>\n",
              "    <tr>\n",
              "      <th>std</th>\n",
              "      <td>43.304670</td>\n",
              "      <td>43.836072</td>\n",
              "      <td>42.781664</td>\n",
              "      <td>43.326924</td>\n",
              "      <td>3.357897e+08</td>\n",
              "    </tr>\n",
              "    <tr>\n",
              "      <th>min</th>\n",
              "      <td>2.424281</td>\n",
              "      <td>2.503981</td>\n",
              "      <td>2.387943</td>\n",
              "      <td>2.387943</td>\n",
              "      <td>4.100000e+07</td>\n",
              "    </tr>\n",
              "    <tr>\n",
              "      <th>25%</th>\n",
              "      <td>11.401206</td>\n",
              "      <td>11.569081</td>\n",
              "      <td>11.305552</td>\n",
              "      <td>11.441514</td>\n",
              "      <td>1.136170e+08</td>\n",
              "    </tr>\n",
              "    <tr>\n",
              "      <th>50%</th>\n",
              "      <td>23.387782</td>\n",
              "      <td>23.608728</td>\n",
              "      <td>23.179518</td>\n",
              "      <td>23.470344</td>\n",
              "      <td>2.151352e+08</td>\n",
              "    </tr>\n",
              "    <tr>\n",
              "      <th>75%</th>\n",
              "      <td>45.476249</td>\n",
              "      <td>45.861837</td>\n",
              "      <td>45.098424</td>\n",
              "      <td>45.398707</td>\n",
              "      <td>4.541817e+08</td>\n",
              "    </tr>\n",
              "    <tr>\n",
              "      <th>max</th>\n",
              "      <td>182.130025</td>\n",
              "      <td>182.439174</td>\n",
              "      <td>178.629624</td>\n",
              "      <td>181.511703</td>\n",
              "      <td>3.372970e+09</td>\n",
              "    </tr>\n",
              "  </tbody>\n",
              "</table>\n",
              "</div>\n",
              "      <button class=\"colab-df-convert\" onclick=\"convertToInteractive('df-34b53bb0-bf1c-4b6d-8729-5c0ef4cb7b30')\"\n",
              "              title=\"Convert this dataframe to an interactive table.\"\n",
              "              style=\"display:none;\">\n",
              "        \n",
              "  <svg xmlns=\"http://www.w3.org/2000/svg\" height=\"24px\"viewBox=\"0 0 24 24\"\n",
              "       width=\"24px\">\n",
              "    <path d=\"M0 0h24v24H0V0z\" fill=\"none\"/>\n",
              "    <path d=\"M18.56 5.44l.94 2.06.94-2.06 2.06-.94-2.06-.94-.94-2.06-.94 2.06-2.06.94zm-11 1L8.5 8.5l.94-2.06 2.06-.94-2.06-.94L8.5 2.5l-.94 2.06-2.06.94zm10 10l.94 2.06.94-2.06 2.06-.94-2.06-.94-.94-2.06-.94 2.06-2.06.94z\"/><path d=\"M17.41 7.96l-1.37-1.37c-.4-.4-.92-.59-1.43-.59-.52 0-1.04.2-1.43.59L10.3 9.45l-7.72 7.72c-.78.78-.78 2.05 0 2.83L4 21.41c.39.39.9.59 1.41.59.51 0 1.02-.2 1.41-.59l7.78-7.78 2.81-2.81c.8-.78.8-2.07 0-2.86zM5.41 20L4 18.59l7.72-7.72 1.47 1.35L5.41 20z\"/>\n",
              "  </svg>\n",
              "      </button>\n",
              "      \n",
              "  <style>\n",
              "    .colab-df-container {\n",
              "      display:flex;\n",
              "      flex-wrap:wrap;\n",
              "      gap: 12px;\n",
              "    }\n",
              "\n",
              "    .colab-df-convert {\n",
              "      background-color: #E8F0FE;\n",
              "      border: none;\n",
              "      border-radius: 50%;\n",
              "      cursor: pointer;\n",
              "      display: none;\n",
              "      fill: #1967D2;\n",
              "      height: 32px;\n",
              "      padding: 0 0 0 0;\n",
              "      width: 32px;\n",
              "    }\n",
              "\n",
              "    .colab-df-convert:hover {\n",
              "      background-color: #E2EBFA;\n",
              "      box-shadow: 0px 1px 2px rgba(60, 64, 67, 0.3), 0px 1px 3px 1px rgba(60, 64, 67, 0.15);\n",
              "      fill: #174EA6;\n",
              "    }\n",
              "\n",
              "    [theme=dark] .colab-df-convert {\n",
              "      background-color: #3B4455;\n",
              "      fill: #D2E3FC;\n",
              "    }\n",
              "\n",
              "    [theme=dark] .colab-df-convert:hover {\n",
              "      background-color: #434B5C;\n",
              "      box-shadow: 0px 1px 3px 1px rgba(0, 0, 0, 0.15);\n",
              "      filter: drop-shadow(0px 1px 2px rgba(0, 0, 0, 0.3));\n",
              "      fill: #FFFFFF;\n",
              "    }\n",
              "  </style>\n",
              "\n",
              "      <script>\n",
              "        const buttonEl =\n",
              "          document.querySelector('#df-34b53bb0-bf1c-4b6d-8729-5c0ef4cb7b30 button.colab-df-convert');\n",
              "        buttonEl.style.display =\n",
              "          google.colab.kernel.accessAllowed ? 'block' : 'none';\n",
              "\n",
              "        async function convertToInteractive(key) {\n",
              "          const element = document.querySelector('#df-34b53bb0-bf1c-4b6d-8729-5c0ef4cb7b30');\n",
              "          const dataTable =\n",
              "            await google.colab.kernel.invokeFunction('convertToInteractive',\n",
              "                                                     [key], {});\n",
              "          if (!dataTable) return;\n",
              "\n",
              "          const docLinkHtml = 'Like what you see? Visit the ' +\n",
              "            '<a target=\"_blank\" href=https://colab.research.google.com/notebooks/data_table.ipynb>data table notebook</a>'\n",
              "            + ' to learn more about interactive tables.';\n",
              "          element.innerHTML = '';\n",
              "          dataTable['output_type'] = 'display_data';\n",
              "          await google.colab.output.renderOutput(dataTable, element);\n",
              "          const docLink = document.createElement('div');\n",
              "          docLink.innerHTML = docLinkHtml;\n",
              "          element.appendChild(docLink);\n",
              "        }\n",
              "      </script>\n",
              "    </div>\n",
              "  </div>\n",
              "  "
            ]
          },
          "metadata": {},
          "execution_count": 22
        }
      ]
    },
    {
      "cell_type": "code",
      "source": [
        "data.Close.plot(figsize=(15,8),color='g')\n",
        "plt.ylabel(\"{}Prices\".format(stocks))\n",
        "plt.title(\"{}Price Series\".format(stocks))\n",
        "plt.show()"
      ],
      "metadata": {
        "id": "UiBVPx77GO8U",
        "colab": {
          "base_uri": "https://localhost:8080/",
          "height": 481
        },
        "outputId": "02895c19-c209-4ca3-f088-e3d3dc328dfd"
      },
      "execution_count": 23,
      "outputs": [
        {
          "output_type": "display_data",
          "data": {
            "text/plain": [
              "<Figure size 1080x576 with 1 Axes>"
            ],
            "image/png": "[encoded data removed]"
          },
          "metadata": {
            "needs_background": "light"
          }
        }
      ]
    },
    {
      "cell_type": "code",
      "source": [
        "sns.distplot(data[\"Close\"])"
      ],
      "metadata": {
        "id": "ifnmiwOLGPIh",
        "colab": {
          "base_uri": "https://localhost:8080/",
          "height": 351
        },
        "outputId": "1060462a-db0b-4827-dbba-47220841463f"
      },
      "execution_count": 24,
      "outputs": [
        {
          "output_type": "stream",
          "name": "stderr",
          "text": [
            "/usr/local/lib/python3.7/dist-packages/seaborn/distributions.py:2619: FutureWarning: `distplot` is a deprecated function and will be removed in a future version. Please adapt your code to use either `displot` (a figure-level function with similar flexibility) or `histplot` (an axes-level function for histograms).\n",
            "  warnings.warn(msg, FutureWarning)\n"
          ]
        },
        {
          "output_type": "execute_result",
          "data": {
            "text/plain": [
              "<matplotlib.axes._subplots.AxesSubplot at 0x7f672f08ec10>"
            ]
          },
          "metadata": {},
          "execution_count": 24
        },
        {
          "output_type": "display_data",
          "data": {
            "text/plain": [
              "<Figure size 432x288 with 1 Axes>"
            ],
            "image/png": "[encoded data removed]"
          },
          "metadata": {
            "needs_background": "light"
          }
        }
      ]
    },
    {
      "cell_type": "code",
      "source": [
        "sns.distplot(data[\"Open\"])"
      ],
      "metadata": {
        "id": "ugQ9o6t2FdTw",
        "colab": {
          "base_uri": "https://localhost:8080/",
          "height": 351
        },
        "outputId": "b502b3a3-403f-4b4c-a3b3-49cd492c0b38"
      },
      "execution_count": 25,
      "outputs": [
        {
          "output_type": "stream",
          "name": "stderr",
          "text": [
            "/usr/local/lib/python3.7/dist-packages/seaborn/distributions.py:2619: FutureWarning: `distplot` is a deprecated function and will be removed in a future version. Please adapt your code to use either `displot` (a figure-level function with similar flexibility) or `histplot` (an axes-level function for histograms).\n",
            "  warnings.warn(msg, FutureWarning)\n"
          ]
        },
        {
          "output_type": "execute_result",
          "data": {
            "text/plain": [
              "<matplotlib.axes._subplots.AxesSubplot at 0x7f672efc4610>"
            ]
          },
          "metadata": {},
          "execution_count": 25
        },
        {
          "output_type": "display_data",
          "data": {
            "text/plain": [
              "<Figure size 432x288 with 1 Axes>"
            ],
            "image/png": "[encoded data removed]"
          },
          "metadata": {
            "needs_background": "light"
          }
        }
      ]
    },
    {
      "cell_type": "code",
      "source": [
        "sns.distplot(data[\"High\"])"
      ],
      "metadata": {
        "id": "PrIlL5RUKTWa",
        "colab": {
          "base_uri": "https://localhost:8080/",
          "height": 351
        },
        "outputId": "7737ec76-5b51-49ad-970d-097bdb607524"
      },
      "execution_count": 26,
      "outputs": [
        {
          "output_type": "stream",
          "name": "stderr",
          "text": [
            "/usr/local/lib/python3.7/dist-packages/seaborn/distributions.py:2619: FutureWarning: `distplot` is a deprecated function and will be removed in a future version. Please adapt your code to use either `displot` (a figure-level function with similar flexibility) or `histplot` (an axes-level function for histograms).\n",
            "  warnings.warn(msg, FutureWarning)\n"
          ]
        },
        {
          "output_type": "execute_result",
          "data": {
            "text/plain": [
              "<matplotlib.axes._subplots.AxesSubplot at 0x7f672ef97810>"
            ]
          },
          "metadata": {},
          "execution_count": 26
        },
        {
          "output_type": "display_data",
          "data": {
            "text/plain": [
              "<Figure size 432x288 with 1 Axes>"
            ],
            "image/png": "[encoded data removed]"
          },
          "metadata": {
            "needs_background": "light"
          }
        }
      ]
    },
    {
      "cell_type": "code",
      "source": [
        "X = data.drop(\"Close\",axis=1)\n",
        "y = data[\"Close\"] \n",
        "from sklearn.model_selection import train_test_split\n",
        "X_train, X_test, y_train, y_test = train_test_split(X,y,test_size=0.2, random_state=0)\n",
        "\n",
        "print(X_train.shape)\n",
        "print(X_test.shape)\n",
        "print(y_train.shape)\n",
        "print(y_test.shape)"
      ],
      "metadata": {
        "id": "6dYg-lZ4KotI",
        "colab": {
          "base_uri": "https://localhost:8080/"
        },
        "outputId": "37fac05b-d08c-4b56-b4b5-1fb7872b8c28"
      },
      "execution_count": 27,
      "outputs": [
        {
          "output_type": "stream",
          "name": "stdout",
          "text": [
            "(2913, 4)\n",
            "(729, 4)\n",
            "(2913,)\n",
            "(729,)\n"
          ]
        }
      ]
    },
    {
      "cell_type": "code",
      "source": [
        " from sklearn.linear_model import LinearRegression\n",
        " lr = LinearRegression()\n",
        " lr.fit(X_train,y_train)\n",
        " pred1 = lr.predict(X_test)"
      ],
      "metadata": {
        "id": "YjLFRU3OKovv"
      },
      "execution_count": 28,
      "outputs": []
    },
    {
      "cell_type": "code",
      "source": [
        " pred1.shape"
      ],
      "metadata": {
        "id": "5fE1P4AzTy_H",
        "colab": {
          "base_uri": "https://localhost:8080/"
        },
        "outputId": "c119b76d-79fc-431d-db7c-6138cfa4aaec"
      },
      "execution_count": 29,
      "outputs": [
        {
          "output_type": "execute_result",
          "data": {
            "text/plain": [
              "(729,)"
            ]
          },
          "metadata": {},
          "execution_count": 29
        }
      ]
    },
    {
      "cell_type": "code",
      "source": [
        "from sklearn.metrics import mean_squared_error ,r2_score\n",
        "\n",
        "def calculate_metrics(y_test,y_pred):\n",
        "  mse = mean_squared_error(y_test,y_pred)\n",
        "  rmse= np.sqrt(mse)\n",
        "  rse = r2_score(y_test,y_pred)\n",
        "  print(\"MSE :- \",mse)\n",
        "  print(\"RMSE :- \",rmse)\n",
        "  print(\"R2_score :- \",rse)\n",
        "\n",
        "calculate_metrics(y_test,pred1)"
      ],
      "metadata": {
        "id": "Dg4lpIMlUTlR",
        "colab": {
          "base_uri": "https://localhost:8080/"
        },
        "outputId": "fc9f1fd4-0c46-49a3-ec9e-fa96573c3349"
      },
      "execution_count": 30,
      "outputs": [
        {
          "output_type": "stream",
          "name": "stdout",
          "text": [
            "MSE :-  0.21469904231366987\n",
            "RMSE :-  0.46335628010599994\n",
            "R2_score :-  0.9998924771060114\n"
          ]
        }
      ]
    },
    {
      "cell_type": "code",
      "source": [
        " from sklearn.linear_model import Lasso, Ridge \n",
        "\n",
        " la = Lasso().fit(X_train, y_train )\n",
        " ri = Ridge().fit(X_train, y_train ) \n",
        "\n",
        " la_p = la.predict(X_test) \n",
        " ri_p = ri.predict(X_test)"
      ],
      "metadata": {
        "id": "Ge-btuQ-MU72",
        "colab": {
          "base_uri": "https://localhost:8080/"
        },
        "outputId": "d6e7eb92-398d-4b4c-8e34-b9bb1a9ba1f2"
      },
      "execution_count": 31,
      "outputs": [
        {
          "output_type": "stream",
          "name": "stderr",
          "text": [
            "/usr/local/lib/python3.7/dist-packages/sklearn/linear_model/_coordinate_descent.py:648: ConvergenceWarning: Objective did not converge. You might want to increase the number of iterations, check the scale of the features or consider increasing regularisation. Duality gap: 8.575e+02, tolerance: 5.379e+02\n",
            "  coef_, l1_reg, l2_reg, X, y, max_iter, tol, rng, random, positive\n",
            "/usr/local/lib/python3.7/dist-packages/sklearn/linear_model/_ridge.py:157: LinAlgWarning: Ill-conditioned matrix (rcond=1.30811e-18): result may not be accurate.\n",
            "  return linalg.solve(A, Xy, sym_pos=True, overwrite_a=True).T\n"
          ]
        }
      ]
    },
    {
      "cell_type": "code",
      "source": [
        " calculate_metrics(y_test, la_p)"
      ],
      "metadata": {
        "id": "fmCT4TCvMVLY",
        "colab": {
          "base_uri": "https://localhost:8080/"
        },
        "outputId": "e21c7f50-6cbe-44a1-838b-199953e24712"
      },
      "execution_count": 32,
      "outputs": [
        {
          "output_type": "stream",
          "name": "stdout",
          "text": [
            "MSE :-  0.8825054133671528\n",
            "RMSE :-  0.9394175926429912\n",
            "R2_score :-  0.9995580346564042\n"
          ]
        }
      ]
    },
    {
      "cell_type": "code",
      "source": [
        " calculate_metrics(y_test, ri_p)"
      ],
      "metadata": {
        "id": "tf6JpyTsMVRc",
        "colab": {
          "base_uri": "https://localhost:8080/"
        },
        "outputId": "1d9d260a-88da-45b0-8bad-ecd2ef0abdbf"
      },
      "execution_count": 33,
      "outputs": [
        {
          "output_type": "stream",
          "name": "stdout",
          "text": [
            "MSE :-  0.21470476059199048\n",
            "RMSE :-  0.463362450563261\n",
            "R2_score :-  0.9998924742422547\n"
          ]
        }
      ]
    },
    {
      "cell_type": "code",
      "source": [
        " from sklearn.svm import SVR \n",
        " from sklearn.model_selection import GridSearchCV \n",
        "\n",
        " svr = SVR() \n",
        "\n",
        " param_grid = {'C': [0.1, 1, 10, 100, 1000],  \n",
        "              'gamma': [1, 0.1, 0.01, 0.001, 0.0001], \n",
        "              'kernel': ['rbf']}   \n",
        "\n",
        " grid = GridSearchCV(SVR(), param_grid, refit=True, verbose=3)    \n",
        " grid.fit(X_train, y_train)"
      ],
      "metadata": {
        "id": "a1-bCktvMpTd",
        "colab": {
          "base_uri": "https://localhost:8080/"
        },
        "outputId": "b2c57fc7-69a1-41ed-ff8f-d2faae20dd63"
      },
      "execution_count": 34,
      "outputs": [
        {
          "output_type": "stream",
          "name": "stdout",
          "text": [
            "Fitting 5 folds for each of 25 candidates, totalling 125 fits\n",
            "[CV 1/5] END .......C=0.1, gamma=1, kernel=rbf;, score=-0.122 total time=   0.4s\n",
            "[CV 2/5] END .......C=0.1, gamma=1, kernel=rbf;, score=-0.126 total time=   0.3s\n",
            "[CV 3/5] END .......C=0.1, gamma=1, kernel=rbf;, score=-0.140 total time=   0.3s\n",
            "[CV 4/5] END .......C=0.1, gamma=1, kernel=rbf;, score=-0.143 total time=   0.3s\n",
            "[CV 5/5] END .......C=0.1, gamma=1, kernel=rbf;, score=-0.143 total time=   0.3s\n",
            "[CV 1/5] END .....C=0.1, gamma=0.1, kernel=rbf;, score=-0.122 total time=   0.3s\n",
            "[CV 2/5] END .....C=0.1, gamma=0.1, kernel=rbf;, score=-0.126 total time=   0.3s\n",
            "[CV 3/5] END .....C=0.1, gamma=0.1, kernel=rbf;, score=-0.140 total time=   0.3s\n",
            "[CV 4/5] END .....C=0.1, gamma=0.1, kernel=rbf;, score=-0.143 total time=   0.3s\n",
            "[CV 5/5] END .....C=0.1, gamma=0.1, kernel=rbf;, score=-0.143 total time=   0.3s\n",
            "[CV 1/5] END ....C=0.1, gamma=0.01, kernel=rbf;, score=-0.122 total time=   0.3s\n",
            "[CV 2/5] END ....C=0.1, gamma=0.01, kernel=rbf;, score=-0.126 total time=   0.3s\n",
            "[CV 3/5] END ....C=0.1, gamma=0.01, kernel=rbf;, score=-0.140 total time=   0.3s\n",
            "[CV 4/5] END ....C=0.1, gamma=0.01, kernel=rbf;, score=-0.143 total time=   0.3s\n",
            "[CV 5/5] END ....C=0.1, gamma=0.01, kernel=rbf;, score=-0.143 total time=   0.3s\n",
            "[CV 1/5] END ...C=0.1, gamma=0.001, kernel=rbf;, score=-0.122 total time=   0.3s\n",
            "[CV 2/5] END ...C=0.1, gamma=0.001, kernel=rbf;, score=-0.126 total time=   0.3s\n",
            "[CV 3/5] END ...C=0.1, gamma=0.001, kernel=rbf;, score=-0.140 total time=   0.3s\n",
            "[CV 4/5] END ...C=0.1, gamma=0.001, kernel=rbf;, score=-0.143 total time=   0.3s\n",
            "[CV 5/5] END ...C=0.1, gamma=0.001, kernel=rbf;, score=-0.143 total time=   0.3s\n",
            "[CV 1/5] END ..C=0.1, gamma=0.0001, kernel=rbf;, score=-0.122 total time=   0.3s\n",
            "[CV 2/5] END ..C=0.1, gamma=0.0001, kernel=rbf;, score=-0.126 total time=   0.3s\n",
            "[CV 3/5] END ..C=0.1, gamma=0.0001, kernel=rbf;, score=-0.140 total time=   0.3s\n",
            "[CV 4/5] END ..C=0.1, gamma=0.0001, kernel=rbf;, score=-0.143 total time=   0.3s\n",
            "[CV 5/5] END ..C=0.1, gamma=0.0001, kernel=rbf;, score=-0.143 total time=   0.3s\n",
            "[CV 1/5] END .........C=1, gamma=1, kernel=rbf;, score=-0.125 total time=   0.3s\n",
            "[CV 2/5] END .........C=1, gamma=1, kernel=rbf;, score=-0.129 total time=   0.3s\n",
            "[CV 3/5] END .........C=1, gamma=1, kernel=rbf;, score=-0.141 total time=   0.3s\n",
            "[CV 4/5] END .........C=1, gamma=1, kernel=rbf;, score=-0.138 total time=   0.3s\n",
            "[CV 5/5] END .........C=1, gamma=1, kernel=rbf;, score=-0.140 total time=   0.3s\n",
            "[CV 1/5] END .......C=1, gamma=0.1, kernel=rbf;, score=-0.125 total time=   0.3s\n",
            "[CV 2/5] END .......C=1, gamma=0.1, kernel=rbf;, score=-0.129 total time=   0.4s\n",
            "[CV 3/5] END .......C=1, gamma=0.1, kernel=rbf;, score=-0.141 total time=   0.3s\n",
            "[CV 4/5] END .......C=1, gamma=0.1, kernel=rbf;, score=-0.138 total time=   0.3s\n",
            "[CV 5/5] END .......C=1, gamma=0.1, kernel=rbf;, score=-0.140 total time=   0.3s\n",
            "[CV 1/5] END ......C=1, gamma=0.01, kernel=rbf;, score=-0.125 total time=   0.3s\n",
            "[CV 2/5] END ......C=1, gamma=0.01, kernel=rbf;, score=-0.129 total time=   0.3s\n",
            "[CV 3/5] END ......C=1, gamma=0.01, kernel=rbf;, score=-0.141 total time=   0.3s\n",
            "[CV 4/5] END ......C=1, gamma=0.01, kernel=rbf;, score=-0.138 total time=   0.3s\n",
            "[CV 5/5] END ......C=1, gamma=0.01, kernel=rbf;, score=-0.140 total time=   0.3s\n",
            "[CV 1/5] END .....C=1, gamma=0.001, kernel=rbf;, score=-0.125 total time=   0.3s\n",
            "[CV 2/5] END .....C=1, gamma=0.001, kernel=rbf;, score=-0.129 total time=   0.3s\n",
            "[CV 3/5] END .....C=1, gamma=0.001, kernel=rbf;, score=-0.141 total time=   0.3s\n",
            "[CV 4/5] END .....C=1, gamma=0.001, kernel=rbf;, score=-0.138 total time=   0.3s\n",
            "[CV 5/5] END .....C=1, gamma=0.001, kernel=rbf;, score=-0.140 total time=   0.3s\n",
            "[CV 1/5] END ....C=1, gamma=0.0001, kernel=rbf;, score=-0.125 total time=   0.3s\n",
            "[CV 2/5] END ....C=1, gamma=0.0001, kernel=rbf;, score=-0.129 total time=   0.3s\n",
            "[CV 3/5] END ....C=1, gamma=0.0001, kernel=rbf;, score=-0.141 total time=   0.3s\n",
            "[CV 4/5] END ....C=1, gamma=0.0001, kernel=rbf;, score=-0.138 total time=   0.3s\n",
            "[CV 5/5] END ....C=1, gamma=0.0001, kernel=rbf;, score=-0.139 total time=   0.4s\n",
            "[CV 1/5] END ........C=10, gamma=1, kernel=rbf;, score=-0.120 total time=   1.0s\n",
            "[CV 2/5] END ........C=10, gamma=1, kernel=rbf;, score=-0.129 total time=   0.4s\n",
            "[CV 3/5] END ........C=10, gamma=1, kernel=rbf;, score=-0.141 total time=   0.4s\n",
            "[CV 4/5] END ........C=10, gamma=1, kernel=rbf;, score=-0.133 total time=   0.4s\n",
            "[CV 5/5] END ........C=10, gamma=1, kernel=rbf;, score=-0.136 total time=   0.4s\n",
            "[CV 1/5] END ......C=10, gamma=0.1, kernel=rbf;, score=-0.120 total time=   0.4s\n",
            "[CV 2/5] END ......C=10, gamma=0.1, kernel=rbf;, score=-0.129 total time=   0.4s\n",
            "[CV 3/5] END ......C=10, gamma=0.1, kernel=rbf;, score=-0.141 total time=   0.4s\n",
            "[CV 4/5] END ......C=10, gamma=0.1, kernel=rbf;, score=-0.133 total time=   0.4s\n",
            "[CV 5/5] END ......C=10, gamma=0.1, kernel=rbf;, score=-0.136 total time=   0.4s\n",
            "[CV 1/5] END .....C=10, gamma=0.01, kernel=rbf;, score=-0.120 total time=   0.4s\n",
            "[CV 2/5] END .....C=10, gamma=0.01, kernel=rbf;, score=-0.129 total time=   0.4s\n",
            "[CV 3/5] END .....C=10, gamma=0.01, kernel=rbf;, score=-0.141 total time=   0.4s\n",
            "[CV 4/5] END .....C=10, gamma=0.01, kernel=rbf;, score=-0.133 total time=   0.4s\n",
            "[CV 5/5] END .....C=10, gamma=0.01, kernel=rbf;, score=-0.136 total time=   0.4s\n",
            "[CV 1/5] END ....C=10, gamma=0.001, kernel=rbf;, score=-0.119 total time=   0.4s\n",
            "[CV 2/5] END ....C=10, gamma=0.001, kernel=rbf;, score=-0.129 total time=   0.4s\n",
            "[CV 3/5] END ....C=10, gamma=0.001, kernel=rbf;, score=-0.141 total time=   0.4s\n",
            "[CV 4/5] END ....C=10, gamma=0.001, kernel=rbf;, score=-0.132 total time=   0.4s\n",
            "[CV 5/5] END ....C=10, gamma=0.001, kernel=rbf;, score=-0.136 total time=   0.4s\n",
            "[CV 1/5] END ...C=10, gamma=0.0001, kernel=rbf;, score=-0.118 total time=   0.4s\n",
            "[CV 2/5] END ...C=10, gamma=0.0001, kernel=rbf;, score=-0.128 total time=   0.4s\n",
            "[CV 3/5] END ...C=10, gamma=0.0001, kernel=rbf;, score=-0.141 total time=   0.6s\n",
            "[CV 4/5] END ...C=10, gamma=0.0001, kernel=rbf;, score=-0.131 total time=   0.8s\n",
            "[CV 5/5] END ...C=10, gamma=0.0001, kernel=rbf;, score=-0.136 total time=   0.4s\n",
            "[CV 1/5] END .......C=100, gamma=1, kernel=rbf;, score=-0.001 total time=   0.5s\n",
            "[CV 2/5] END .......C=100, gamma=1, kernel=rbf;, score=-0.001 total time=   0.5s\n",
            "[CV 3/5] END .......C=100, gamma=1, kernel=rbf;, score=-0.002 total time=   0.5s\n",
            "[CV 4/5] END .......C=100, gamma=1, kernel=rbf;, score=-0.000 total time=   0.6s\n",
            "[CV 5/5] END .......C=100, gamma=1, kernel=rbf;, score=-0.001 total time=   0.5s\n",
            "[CV 1/5] END .....C=100, gamma=0.1, kernel=rbf;, score=-0.001 total time=   0.5s\n",
            "[CV 2/5] END .....C=100, gamma=0.1, kernel=rbf;, score=-0.001 total time=   0.6s\n",
            "[CV 3/5] END .....C=100, gamma=0.1, kernel=rbf;, score=-0.002 total time=   0.5s\n",
            "[CV 4/5] END .....C=100, gamma=0.1, kernel=rbf;, score=-0.000 total time=   0.5s\n",
            "[CV 5/5] END .....C=100, gamma=0.1, kernel=rbf;, score=-0.001 total time=   0.5s\n",
            "[CV 1/5] END ....C=100, gamma=0.01, kernel=rbf;, score=-0.001 total time=   0.5s\n",
            "[CV 2/5] END .....C=100, gamma=0.01, kernel=rbf;, score=0.000 total time=   0.5s\n",
            "[CV 3/5] END ....C=100, gamma=0.01, kernel=rbf;, score=-0.002 total time=   0.5s\n",
            "[CV 4/5] END ....C=100, gamma=0.01, kernel=rbf;, score=-0.000 total time=   0.5s\n",
            "[CV 5/5] END ....C=100, gamma=0.01, kernel=rbf;, score=-0.000 total time=   0.5s\n",
            "[CV 1/5] END ....C=100, gamma=0.001, kernel=rbf;, score=0.005 total time=   0.5s\n",
            "[CV 2/5] END ....C=100, gamma=0.001, kernel=rbf;, score=0.001 total time=   0.5s\n",
            "[CV 3/5] END ...C=100, gamma=0.001, kernel=rbf;, score=-0.002 total time=   0.5s\n",
            "[CV 4/5] END ....C=100, gamma=0.001, kernel=rbf;, score=0.005 total time=   0.5s\n",
            "[CV 5/5] END ....C=100, gamma=0.001, kernel=rbf;, score=0.000 total time=   0.5s\n",
            "[CV 1/5] END ...C=100, gamma=0.0001, kernel=rbf;, score=0.012 total time=   0.5s\n",
            "[CV 2/5] END ...C=100, gamma=0.0001, kernel=rbf;, score=0.001 total time=   0.5s\n",
            "[CV 3/5] END ..C=100, gamma=0.0001, kernel=rbf;, score=-0.003 total time=   0.5s\n",
            "[CV 4/5] END ...C=100, gamma=0.0001, kernel=rbf;, score=0.012 total time=   0.5s\n",
            "[CV 5/5] END ...C=100, gamma=0.0001, kernel=rbf;, score=0.000 total time=   0.5s\n",
            "[CV 1/5] END ......C=1000, gamma=1, kernel=rbf;, score=-0.000 total time=   0.6s\n",
            "[CV 2/5] END ......C=1000, gamma=1, kernel=rbf;, score=-0.000 total time=   0.6s\n",
            "[CV 3/5] END ......C=1000, gamma=1, kernel=rbf;, score=-0.000 total time=   0.6s\n",
            "[CV 4/5] END ......C=1000, gamma=1, kernel=rbf;, score=-0.000 total time=   0.6s\n",
            "[CV 5/5] END ......C=1000, gamma=1, kernel=rbf;, score=-0.000 total time=   0.6s\n",
            "[CV 1/5] END ....C=1000, gamma=0.1, kernel=rbf;, score=-0.000 total time=   0.6s\n",
            "[CV 2/5] END ....C=1000, gamma=0.1, kernel=rbf;, score=-0.000 total time=   0.6s\n",
            "[CV 3/5] END ....C=1000, gamma=0.1, kernel=rbf;, score=-0.000 total time=   0.6s\n",
            "[CV 4/5] END ....C=1000, gamma=0.1, kernel=rbf;, score=-0.000 total time=   0.6s\n",
            "[CV 5/5] END ....C=1000, gamma=0.1, kernel=rbf;, score=-0.000 total time=   0.6s\n",
            "[CV 1/5] END ...C=1000, gamma=0.01, kernel=rbf;, score=-0.000 total time=   0.6s\n",
            "[CV 2/5] END ....C=1000, gamma=0.01, kernel=rbf;, score=0.001 total time=   0.6s\n",
            "[CV 3/5] END ...C=1000, gamma=0.01, kernel=rbf;, score=-0.000 total time=   0.6s\n",
            "[CV 4/5] END ...C=1000, gamma=0.01, kernel=rbf;, score=-0.000 total time=   0.6s\n",
            "[CV 5/5] END ....C=1000, gamma=0.01, kernel=rbf;, score=0.001 total time=   0.6s\n",
            "[CV 1/5] END ...C=1000, gamma=0.001, kernel=rbf;, score=0.006 total time=   0.6s\n",
            "[CV 2/5] END ...C=1000, gamma=0.001, kernel=rbf;, score=0.001 total time=   0.6s\n",
            "[CV 3/5] END ..C=1000, gamma=0.001, kernel=rbf;, score=-0.001 total time=   0.6s\n",
            "[CV 4/5] END ...C=1000, gamma=0.001, kernel=rbf;, score=0.006 total time=   0.6s\n",
            "[CV 5/5] END ...C=1000, gamma=0.001, kernel=rbf;, score=0.001 total time=   0.6s\n",
            "[CV 1/5] END ..C=1000, gamma=0.0001, kernel=rbf;, score=0.014 total time=   0.6s\n",
            "[CV 2/5] END ..C=1000, gamma=0.0001, kernel=rbf;, score=0.002 total time=   0.6s\n",
            "[CV 3/5] END .C=1000, gamma=0.0001, kernel=rbf;, score=-0.001 total time=   0.6s\n",
            "[CV 4/5] END ..C=1000, gamma=0.0001, kernel=rbf;, score=0.012 total time=   0.6s\n",
            "[CV 5/5] END ..C=1000, gamma=0.0001, kernel=rbf;, score=0.001 total time=   0.6s\n"
          ]
        },
        {
          "output_type": "execute_result",
          "data": {
            "text/plain": [
              "GridSearchCV(estimator=SVR(),\n",
              "             param_grid={'C': [0.1, 1, 10, 100, 1000],\n",
              "                         'gamma': [1, 0.1, 0.01, 0.001, 0.0001],\n",
              "                         'kernel': ['rbf']},\n",
              "             verbose=3)"
            ]
          },
          "metadata": {},
          "execution_count": 34
        }
      ]
    },
    {
      "cell_type": "code",
      "source": [
        "GridSearchCV(estimator=SVR(),\n",
        "             param_grid={'C': [0.1, 1, 10, 100, 1000],\n",
        "                         'gamma': [1, 0.1, 0.01, 0.001, 0.0001],\n",
        "                         'kernel': ['rbf']},\n",
        "             verbose=3)"
      ],
      "metadata": {
        "id": "5aWsOCVaMpaZ",
        "colab": {
          "base_uri": "https://localhost:8080/"
        },
        "outputId": "9a6d209c-c8f1-42ec-c4ab-fc9f36aa8c88"
      },
      "execution_count": 35,
      "outputs": [
        {
          "output_type": "execute_result",
          "data": {
            "text/plain": [
              "GridSearchCV(estimator=SVR(),\n",
              "             param_grid={'C': [0.1, 1, 10, 100, 1000],\n",
              "                         'gamma': [1, 0.1, 0.01, 0.001, 0.0001],\n",
              "                         'kernel': ['rbf']},\n",
              "             verbose=3)"
            ]
          },
          "metadata": {},
          "execution_count": 35
        }
      ]
    },
    {
      "cell_type": "code",
      "source": [
        "svr = SVR(C=10, gamma=0.01, kernel='rbf') \n",
        "svr.fit(X_train, y_train) \n",
        "svr_pred = svr.predict(X_test) \n"
      ],
      "metadata": {
        "id": "jHQugfmkMVUA"
      },
      "execution_count": 36,
      "outputs": []
    },
    {
      "cell_type": "code",
      "source": [
        "svr_pred"
      ],
      "metadata": {
        "id": "Q75YohI9Nptb",
        "colab": {
          "base_uri": "https://localhost:8080/"
        },
        "outputId": "9f99ed8c-1081-4598-abe6-2eb7ac8f4485"
      },
      "execution_count": 37,
      "outputs": [
        {
          "output_type": "execute_result",
          "data": {
            "text/plain": [
              "array([23.92443982, 23.92443982, 23.92443982, 23.92443982, 23.92443982,\n",
              "       23.92443982, 23.92443982, 23.92443982, 23.92443982, 23.92443982,\n",
              "       23.92443982, 23.92443982, 23.92443982, 23.92443982, 23.92443982,\n",
              "       23.92443982, 23.92443982, 23.92443982, 23.92443982, 23.92443982,\n",
              "       23.92443982, 23.92443982, 23.92443982, 23.92443982, 23.92443982,\n",
              "       23.92443982, 23.92443982, 23.92443982, 23.92443982, 23.92443982,\n",
              "       23.92443982, 23.92443982, 23.92443982, 23.92443982, 23.92443982,\n",
              "       23.92443982, 23.92443982, 23.92443982, 23.92443982, 23.92443982,\n",
              "       23.92443982, 23.92443982, 23.92443982, 23.92443982, 23.92443982,\n",
              "       23.92443982, 23.92443982, 23.92443982, 23.92443982, 23.92443982,\n",
              "       23.92443982, 23.92443982, 23.92443982, 23.92443982, 23.92443982,\n",
              "       20.13449134, 23.92443982, 23.92443982, 23.92443982, 23.92443982,\n",
              "       23.92443982, 23.92443982, 23.92443982, 23.92443982, 23.92443982,\n",
              "       23.92443982, 23.92443982, 23.92443982, 23.92443982, 23.92443982,\n",
              "       23.92443982, 23.92443982, 23.92443982, 23.92443982, 23.92443982,\n",
              "       23.92443982, 23.92443982, 23.92443982, 23.92443982, 23.92443982,\n",
              "       23.92443982, 23.92443982, 23.92443982, 23.92443982, 23.92443982,\n",
              "       23.92443982, 23.92443982, 23.92443982, 23.92443982, 23.92443982,\n",
              "       23.92443982, 23.92443982, 23.92443982, 23.92443982, 23.92443982,\n",
              "       23.92443982, 23.92443982, 23.92443982, 23.92443982, 23.92443982,\n",
              "       23.92443982, 23.92443982, 23.92443982, 23.92443982, 23.92443982,\n",
              "       23.92443982, 23.92443982, 23.92443982, 23.92443982, 23.92443982,\n",
              "       23.92443982, 23.92443982, 23.92443982, 23.92443982, 23.92443982,\n",
              "       23.92443982, 23.92443982, 23.92443982, 23.92443982, 23.92443982,\n",
              "       23.92443982, 23.92443982, 23.92443982, 23.92443982, 23.92443982,\n",
              "       23.92443982, 23.92443982, 23.92443982, 23.92443982, 23.92443982,\n",
              "       23.92443982, 23.92443982, 23.92443982, 23.92443982, 23.92443982,\n",
              "       23.92443982, 23.92443982, 23.92443982, 23.92443982, 23.92443982,\n",
              "       23.92443982, 23.92443982, 23.92443982, 23.92443982, 23.92443982,\n",
              "       23.92443982, 23.92443982, 23.92443982, 23.92443982, 23.92443982,\n",
              "       23.92443982, 23.92443982, 23.92443982, 23.92443982, 23.92443982,\n",
              "       23.92443982, 23.92443982, 23.92443982, 23.92443982, 23.92443982,\n",
              "       23.92443982, 23.92443982, 23.92443982, 23.92443982, 23.92443982,\n",
              "       23.92443982, 23.92443982, 23.92443982, 23.92443982, 23.92443982,\n",
              "       23.92443982, 23.92443982, 23.92443982, 23.92443982, 23.92443982,\n",
              "       23.92443982, 23.92443982, 23.92443982, 23.92443982, 23.92443982,\n",
              "       23.92443982, 23.92443982, 23.92443982, 23.92443982, 23.92443982,\n",
              "       23.92443982, 23.92443982, 23.92443982, 23.92443982, 23.92443982,\n",
              "       23.92443982, 23.92443982, 23.92443982, 23.92443982, 23.92443982,\n",
              "       23.92443982, 23.92443982, 23.92443982, 23.92443982, 23.92443982,\n",
              "       23.92443982, 23.92443982, 23.92443982, 23.92443982, 23.92443982,\n",
              "       23.92443982, 23.92443982, 23.92443982, 23.92443982, 23.92443982,\n",
              "       23.92443982, 23.92443982, 23.92443982, 23.92443982, 23.92443982,\n",
              "       23.92443982, 23.92443982, 23.92443982, 23.92443982, 23.92443982,\n",
              "       23.92443982, 23.92443982, 23.92443982, 23.92443982, 23.92443982,\n",
              "       23.92443982, 23.92443982, 23.92443982, 23.92443982, 23.92443982,\n",
              "       23.92443982, 23.92443982, 23.92443982, 23.92443982, 23.92443982,\n",
              "       23.92443982, 23.92443982, 23.92443982, 23.92443982, 23.92443982,\n",
              "       23.92443982, 23.92443982, 23.92443982, 23.92443982, 23.92443982,\n",
              "       23.92443982, 23.92443982, 23.92443982, 23.92443982, 23.92443982,\n",
              "       23.92443982, 23.92443982, 23.92443982, 23.92443982, 23.92443982,\n",
              "       23.92443982, 23.92443982, 23.92443982, 23.92443982, 23.92443982,\n",
              "       23.92443982, 23.92443982, 23.92443982, 23.92443982, 23.92443982,\n",
              "       23.92443982, 23.92443982, 23.92443982, 23.92443982, 23.92443982,\n",
              "       23.92443982, 23.92443982, 23.92443982, 23.92443982, 23.92443982,\n",
              "       23.92443982, 23.92443982, 23.92443982, 23.92443982, 23.92443982,\n",
              "       23.92443982, 23.92443982, 23.92443982, 23.92443982, 23.92443982,\n",
              "       23.92443982, 23.92443982, 23.92443982, 23.92443982, 23.92443982,\n",
              "       23.92443982, 23.92443982, 23.92443982, 23.92443982, 23.92443982,\n",
              "       23.92443982, 23.92443982, 23.92443982, 23.92443982, 23.92443982,\n",
              "       23.92443982, 23.92443982, 23.92443982, 23.92443982, 23.92443982,\n",
              "       23.92443982, 23.92443982, 23.92443982, 23.92443982, 23.92443982,\n",
              "       23.92443982, 23.92443982, 23.92443982, 23.92443982, 23.92443982,\n",
              "       23.92443982, 23.92443982, 23.92443982, 23.92443982, 23.92443982,\n",
              "       23.92443982, 23.92443982, 23.92443982, 23.92443982, 23.92443982,\n",
              "       23.92443982, 23.92443982, 23.92443982, 23.92443982, 23.92443982,\n",
              "       23.92443982, 23.92443982, 23.92443982, 23.92443982, 23.92443982,\n",
              "       23.92443982, 23.92443982, 23.92443982, 23.92443982, 23.92443982,\n",
              "       23.92443982, 23.92443982, 23.92443982, 23.92443982, 23.92443982,\n",
              "       23.92443982, 23.92443982, 23.92443982, 23.92443982, 23.92443982,\n",
              "       23.92443982, 23.92443982, 23.92443982, 23.92443982, 23.92443982,\n",
              "       23.92443982, 23.92443982, 23.92443982, 23.92443982, 23.92443982,\n",
              "       23.92443982, 23.92443982, 23.92443982, 23.92443982, 23.92443982,\n",
              "       23.92443982, 23.92443982, 23.92443982, 23.92443982, 23.92443982,\n",
              "       23.92443982, 23.92443982, 23.92443982, 23.92443982, 23.92443982,\n",
              "       23.92443982, 23.92443982, 23.92443982, 23.92443982, 23.92443982,\n",
              "       23.92443982, 23.92443982, 23.92443982, 23.92443982, 23.92443982,\n",
              "       23.92443982, 23.92443982, 23.92443982, 23.92443982, 23.92443982,\n",
              "       23.92443982, 23.92443982, 23.92443982, 23.92443982, 23.92443982,\n",
              "       23.92443982, 23.92443982, 23.92443982, 23.92443982, 23.92443982,\n",
              "       23.92443982, 23.92443982, 23.92443982, 23.92443982, 23.92443982,\n",
              "       23.92443982, 23.92443982, 23.92443982, 23.92443982, 23.92443982,\n",
              "       23.92443982, 23.92443982, 23.92443982, 23.92443982, 23.92443982,\n",
              "       23.92443982, 23.92443982, 23.92443982, 23.92443982, 23.92443982,\n",
              "       23.92443982, 23.92443982, 23.92443982, 23.92443982, 23.92443982,\n",
              "       23.92443982, 23.92443982, 23.92443982, 23.92443982, 23.92443982,\n",
              "       23.92443982, 23.92443982, 23.92443982, 23.92443982, 23.92443982,\n",
              "       23.92443982, 23.92443982, 23.92443982, 23.92443982, 23.92443982,\n",
              "       14.30734699, 23.92443982, 23.92443982, 23.92443982, 23.92443982,\n",
              "       23.92443982, 23.92443982, 23.92443982, 23.92443982, 23.92443982,\n",
              "       23.92443982, 23.92443982, 23.92443982, 23.92443982, 23.92443982,\n",
              "       23.92443982, 23.92443982, 23.92443982, 23.92443982, 23.92443982,\n",
              "       23.92443982, 23.92443982, 23.92443982, 23.92443982, 23.92443982,\n",
              "       23.92443982, 23.92443982, 23.92443982, 23.92443982, 23.92443982,\n",
              "       23.92443982, 23.92443982, 23.92443982, 23.92443982, 23.92443982,\n",
              "       23.92443982, 23.92443982, 23.92443982, 23.92443982, 23.92443982,\n",
              "       23.92443982, 23.92443982, 23.92443982, 23.92443982, 23.92443982,\n",
              "       23.92443982, 23.92443982, 23.92443982, 23.92443982, 23.92443982,\n",
              "       23.92443982, 23.92443982, 23.92443982, 23.92443982, 23.92443982,\n",
              "       23.92443982, 23.92443982, 23.92443982, 23.92443982, 23.92443982,\n",
              "       23.92443982, 23.92443982, 23.92443982, 23.92443982, 23.92443982,\n",
              "       23.92443982, 23.92443982, 23.92443982, 23.92443982, 23.92443982,\n",
              "       23.92443982, 23.92443982, 23.92443982, 23.92443982, 23.92443982,\n",
              "       23.92443982, 23.92443982, 23.92443982, 23.92443982, 23.92443982,\n",
              "       23.92443982, 23.92443982, 23.92443982, 23.92443982, 23.92443982,\n",
              "       23.92443982, 23.92443982, 23.92443982, 23.92443982, 23.92443982,\n",
              "       23.92443982, 23.92443982, 23.92443982, 23.92443982, 23.92443982,\n",
              "       23.92443982, 23.92443982, 23.92443982, 23.92443982, 23.92443982,\n",
              "       23.92443982, 23.92443982, 23.92443982, 23.92443982, 23.92443982,\n",
              "       23.92443982, 23.92443982, 23.92443982, 23.92443982, 23.92443982,\n",
              "       23.92443982, 23.92443982, 23.92443982, 23.92443982, 23.92443982,\n",
              "       23.92443982, 23.92443982, 23.92443982, 23.92443982, 23.92443982,\n",
              "       23.92443982, 23.92443982, 23.92443982, 23.92443982, 23.92443982,\n",
              "       23.92443982, 23.92443982, 23.92443982, 23.92443982, 23.92443982,\n",
              "       23.92443982, 23.92443982, 23.92443982, 23.92443982, 23.92443982,\n",
              "       23.92443982, 23.92443982, 23.92443982, 23.92443982, 23.92443982,\n",
              "       23.92443982, 23.92443982, 23.92443982, 23.92443982, 23.92443982,\n",
              "       23.92443982, 23.92443982, 23.92443982, 23.92443982, 23.92443982,\n",
              "       23.92443982, 23.92443982, 23.92443982, 23.92443982, 23.92443982,\n",
              "       23.92443982, 23.92443982, 23.92443982, 23.92443982, 23.92443982,\n",
              "       23.92443982, 23.92443982, 23.92443982, 23.92443982, 23.92443982,\n",
              "       23.92443982, 23.92443982, 23.92443982, 23.92443982, 23.92443982,\n",
              "       23.92443982, 23.92443982, 23.92443982, 23.92443982, 23.92443982,\n",
              "       23.92443982, 23.92443982, 23.92443982, 23.92443982, 23.92443982,\n",
              "       23.92443982, 23.92443982, 23.92443982, 23.92443982, 23.92443982,\n",
              "       23.92443982, 23.92443982, 23.92443982, 23.92443982, 23.92443982,\n",
              "       23.92443982, 23.92443982, 23.92443982, 23.92443982, 23.92443982,\n",
              "       23.92443982, 23.92443982, 23.92443982, 23.92443982, 23.92443982,\n",
              "       23.92443982, 23.92443982, 23.92443982, 23.92443982, 23.92443982,\n",
              "       23.92443982, 23.92443982, 23.92443982, 23.92443982, 23.92443982,\n",
              "       23.92443982, 23.92443982, 23.92443982, 23.92443982, 23.92443982,\n",
              "       23.92443982, 23.92443982, 23.92443982, 23.92443982, 23.92443982,\n",
              "       23.92443982, 23.92443982, 23.92443982, 23.92443982, 23.92443982,\n",
              "       23.92443982, 23.92443982, 23.92443982, 23.92443982, 23.92443982,\n",
              "       23.92443982, 23.92443982, 23.92443982, 23.92443982, 23.92443982,\n",
              "       23.92443982, 23.92443982, 23.92443982, 23.92443982, 23.92443982,\n",
              "       23.92443982, 23.92443982, 23.92443982, 23.92443982, 23.92443982,\n",
              "       23.92443982, 23.92443982, 23.92443982, 23.92443982, 23.92443982,\n",
              "       23.92443982, 23.92443982, 23.92443982, 23.92443982, 23.92443982,\n",
              "       23.92443982, 23.92443982, 23.92443982, 23.92443982, 23.92443982,\n",
              "       23.92443982, 23.92443982, 23.92443982, 23.92443982, 23.92443982,\n",
              "       23.92443982, 23.92443982, 23.92443982, 23.92443982, 23.92443982,\n",
              "       23.92443982, 23.92443982, 23.92443982, 23.92443982, 23.92443982,\n",
              "       23.92443982, 23.92443982, 23.92443982, 23.92443982, 23.92443982,\n",
              "       23.92443982, 23.92443982, 23.92443982, 23.92443982, 23.92443982,\n",
              "       23.92443982, 23.92443982, 23.92443982, 23.92443982])"
            ]
          },
          "metadata": {},
          "execution_count": 37
        }
      ]
    },
    {
      "cell_type": "code",
      "source": [
        "from sklearn.metrics import mean_squared_error ,r2_score\n",
        "\n",
        "def calculate_metrics(y_test,svr_pred):\n",
        "  mse = mean_squared_error(y_test,svr_pred)\n",
        "  rmse= np.sqrt(mse)\n",
        "  rse = r2_score(y_test,svr_pred)\n",
        "\n",
        "  print(\"MSE :- \",mse)\n",
        "  print(\"RMSE :- \",rmse)\n",
        "  print(\"R2_score :- \",rse)\n",
        "\n",
        "calculate_metrics(y_test,svr_pred)"
      ],
      "metadata": {
        "id": "H3HqcqpEN71_",
        "colab": {
          "base_uri": "https://localhost:8080/"
        },
        "outputId": "c7c1ef7a-bad3-4036-a6e2-54a31832d2ba"
      },
      "execution_count": 38,
      "outputs": [
        {
          "output_type": "stream",
          "name": "stdout",
          "text": [
            "MSE :-  2260.323705133292\n",
            "RMSE :-  47.54286176844314\n",
            "R2_score :-  -0.1319870992805705\n"
          ]
        }
      ]
    },
    {
      "cell_type": "code",
      "source": [
        "import joblib  \n",
        "joblib.dump(ri, 'model.pkl') \n",
        "ridge_from_joblib = model = joblib.load(\"model.pkl\")"
      ],
      "metadata": {
        "id": "s7FgKj8MMVXO"
      },
      "execution_count": 39,
      "outputs": []
    }
  ]
}